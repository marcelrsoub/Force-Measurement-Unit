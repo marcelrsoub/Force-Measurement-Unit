{
 "cells": [
  {
   "cell_type": "markdown",
   "metadata": {},
   "source": [
    "# FMU Data Acquisition Code"
   ]
  },
  {
   "cell_type": "code",
   "execution_count": 1,
   "metadata": {},
   "outputs": [],
   "source": [
    "from serial import *\n",
    "import time\n",
    "import sys\n",
    "import numpy as np\n",
    "import matplotlib.pyplot as plt\n",
    "from threading import Thread"
   ]
  },
  {
   "cell_type": "markdown",
   "metadata": {},
   "source": [
    "## Connect"
   ]
  },
  {
   "cell_type": "code",
   "execution_count": 2,
   "metadata": {},
   "outputs": [
    {
     "name": "stdout",
     "output_type": "stream",
     "text": [
      "Waiting for device\n",
      "COM4\n",
      "7 sec\n",
      "Connection Established!\n"
     ]
    }
   ],
   "source": [
    "COM = 'COM4'# /dev/ttyACM0 (Linux)\n",
    "BAUD = 9600\n",
    "\n",
    "last_received = ''\n",
    "stop_threading = False\n",
    "\n",
    "def receiving(ser):\n",
    "    global last_received, stop_threading\n",
    "\n",
    "    buffer_string = ''\n",
    "    while True:\n",
    "        buffer_string = buffer_string + str(ser.read(ser.inWaiting()),'utf-8')\n",
    "        if '\\n' in buffer_string:\n",
    "            lines = buffer_string.split('\\n') # Guaranteed to have at least 2 entries\n",
    "            last_received = lines[-2]\n",
    "            #If the Arduino sends lots of empty lines, you'll lose the\n",
    "            #last filled line, so you could make the above statement conditional\n",
    "            #like so: if lines[-2]: last_received = lines[-2]\n",
    "            buffer_string = lines[-1]\n",
    "        if stop_threading==True:\n",
    "            break\n",
    "\n",
    "COM = 'COM4'\n",
    "\n",
    "ser = Serial(\n",
    "    port=COM,\n",
    "    baudrate=9600,\n",
    "    bytesize=EIGHTBITS,\n",
    "    parity=PARITY_NONE,\n",
    "    stopbits=STOPBITS_ONE,\n",
    "    timeout=0.1,\n",
    "    xonxoff=0,\n",
    "    rtscts=0,\n",
    "    interCharTimeout=None\n",
    ")\n",
    "\n",
    "thread=Thread(target=receiving, args=(ser,))\n",
    "thread.start()\n",
    "\n",
    "\n",
    "\n",
    "print('Waiting for device')\n",
    "print(ser.name)\n",
    "# time.sleep(7)\n",
    "for i in range(7):\n",
    "    sys.stdout.write(\"\\r\"+str(i+1)+\" sec\")\n",
    "    time.sleep(1)\n",
    "print(\"\\nConnection Established!\")\n",
    "\n",
    "def is_number(s):\n",
    "    try:\n",
    "        float(s)\n",
    "        return True\n",
    "    except ValueError:\n",
    "        return False"
   ]
  },
  {
   "cell_type": "markdown",
   "metadata": {},
   "source": [
    "## Acquisition"
   ]
  },
  {
   "cell_type": "code",
   "execution_count": 4,
   "metadata": {},
   "outputs": [
    {
     "name": "stdout",
     "output_type": "stream",
     "text": [
      "Starting measurement...\n",
      "Measuring: 100% 10.0 seconds passed\n",
      "Measurement finished.\n"
     ]
    },
    {
     "data": {
      "text/plain": [
       "<matplotlib.legend.Legend at 0x2349606a128>"
      ]
     },
     "execution_count": 4,
     "metadata": {},
     "output_type": "execute_result"
    },
    {
     "data": {
      "image/png": "[encoded data removed]",
      "text/plain": [
       "<Figure size 432x288 with 1 Axes>"
      ]
     },
     "metadata": {
      "needs_background": "light"
     },
     "output_type": "display_data"
    }
   ],
   "source": [
    "# timeFinal = float(input(\"Duration of acquisition:\"))  # seconds\n",
    "timeFinal = 10  # seconds\n",
    "\n",
    "\n",
    "sensorValue=[]\n",
    "sensorValue2=[]\n",
    "timeValue=[]\n",
    "\n",
    "sensorValue.clear()\n",
    "sensorValue2.clear()\n",
    "timeValue.clear()\n",
    "\n",
    "timeInitial=time.time()\n",
    "timePassed=0\n",
    "\n",
    "i=0\n",
    "timeValue_last=0\n",
    "\n",
    "print(\"Starting measurement...\")\n",
    "\n",
    "while (timePassed<timeFinal):\n",
    "    timeCurrent = time.time()\n",
    "    timePassed=timeCurrent-timeInitial\n",
    "    \n",
    "    \n",
    "    serialValue = last_received.split() #Capture serial output as a decoded string\n",
    "    \n",
    "    if float(serialValue[0])!=timeValue_last:\n",
    "        if (len(serialValue) == 3):\n",
    "            if is_number(serialValue[0] and serialValue[1]):\n",
    "\n",
    "                timeValue.append(float(serialValue[0]))\n",
    "                sensorValue.append(float(serialValue[1]))\n",
    "                sensorValue2.append(float(serialValue[2]))\n",
    "                timeValue_last=float(serialValue[0])\n",
    "\n",
    "    sys.stdout.write(\"\\r\"+\"Measuring: \" + str(\"{0:.0f}\".format(np.floor(100*timePassed/timeFinal)))+\"% \"+str(\"{0:.1f}\".format(timePassed))+\" seconds passed\")\n",
    "\n",
    "print(\"\\nMeasurement finished.\")\n",
    "\n",
    "sensorValue = np.array(sensorValue)\n",
    "sensorValue2 = np.array(sensorValue2)\n",
    "# sensorValue3 = np.array(sensorValue3)\n",
    "timeValue = np.array(timeValue)\n",
    "timeValue = timeValue-np.ones((len(timeValue),))*timeValue[0]\n",
    "timeValue=timeValue*1E-3\t\t#put in seconds (original in mili)\n",
    "\n",
    "\n",
    "fig=plt.gcf()\n",
    "plt.clf()\n",
    "fig.tight_layout()\n",
    "plt.ylabel(\"Force (g)\")\n",
    "plt.xlabel(\"Time (s)\")\n",
    "plt.plot(timeValue, sensorValue, label=\"Bottom Sensor\")\n",
    "plt.plot(timeValue, sensorValue2, label=\"Top Sensors\")\n",
    "plt.legend()\n"
   ]
  },
  {
   "cell_type": "markdown",
   "metadata": {},
   "source": [
    "# Save\n",
    "\n",
    "!!! **IMPORTANT**: Change *numberOfSample* otherwise files get overwritten"
   ]
  },
  {
   "cell_type": "code",
   "execution_count": 5,
   "metadata": {},
   "outputs": [
    {
     "name": "stdout",
     "output_type": "stream",
     "text": [
      "Files saved!\n"
     ]
    }
   ],
   "source": [
    "wafer = \"test-sultan\"\n",
    "numberOfSample = \"\"\n",
    "\n",
    "fname = wafer+\"-\"+str(numberOfSample)\n",
    "# fname=\"test\"\n",
    "\n",
    "try:\n",
    "    np.savetxt(\"sample-\"+fname+\".csv\",np.c_[timeValue,sensorValue,sensorValue2],delimiter=\",\")\t#np.c_[] to put lines in columns in csv\n",
    "    fig.savefig(\"sample-\"+fname+\".png\",dpi=120)\n",
    "    print(\"Files saved!\")\n",
    "except ValueError:\n",
    "    print(ValueError)"
   ]
  },
  {
   "cell_type": "markdown",
   "metadata": {},
   "source": [
    "# Test Variables"
   ]
  },
  {
   "cell_type": "code",
   "execution_count": 16,
   "metadata": {},
   "outputs": [
    {
     "name": "stdout",
     "output_type": "stream",
     "text": [
      "3528367\t0.00\t0.00\n"
     ]
    },
    {
     "data": {
      "text/plain": [
       "<matplotlib.legend.Legend at 0x21f666dc5f8>"
      ]
     },
     "execution_count": 16,
     "metadata": {},
     "output_type": "execute_result"
    },
    {
     "data": {
      "image/png": "[encoded data removed]",
      "text/plain": [
       "<Figure size 432x288 with 1 Axes>"
      ]
     },
     "metadata": {
      "needs_background": "light"
     },
     "output_type": "display_data"
    }
   ],
   "source": [
    "# print(timeValue[1000])\n",
    "print(last_received)\n",
    "\n",
    "plt.clf()\n",
    "fig=plt.gcf()\n",
    "\n",
    "fig.tight_layout()\n",
    "plt.ylabel(\"Force (g)\")\n",
    "plt.xlabel(\"Time (s)\")\n",
    "# plt.plot(timeValue, sensorValue, label=\"Bottom Sensor\")\n",
    "plt.plot(timeValue, sensorValue2,color='orange', label=\"Top Sensors\")\n",
    "plt.legend()"
   ]
  },
  {
   "cell_type": "markdown",
   "metadata": {},
   "source": [
    "# Close Connection COM4"
   ]
  },
  {
   "cell_type": "code",
   "execution_count": 6,
   "metadata": {},
   "outputs": [
    {
     "name": "stdout",
     "output_type": "stream",
     "text": [
      "Thread killed!"
     ]
    }
   ],
   "source": [
    "stop_threading=True\n",
    "thread.join()\n",
    "sys.stdout.write(\"\\rThread killed!\")\n",
    "ser.close()"
   ]
  },
  {
   "cell_type": "code",
   "execution_count": null,
   "metadata": {},
   "outputs": [],
   "source": []
  }
 ],
 "metadata": {
  "kernelspec": {
   "display_name": "Python 3",
   "language": "python",
   "name": "python3"
  },
  "language_info": {
   "codemirror_mode": {
    "name": "ipython",
    "version": 3
   },
   "file_extension": ".py",
   "mimetype": "text/x-python",
   "name": "python",
   "nbconvert_exporter": "python",
   "pygments_lexer": "ipython3",
   "version": "3.7.3"
  }
 },
 "nbformat": 4,
 "nbformat_minor": 4
}
